{
 "cells": [
  {
   "cell_type": "code",
   "execution_count": 2,
   "metadata": {},
   "outputs": [],
   "source": [
    "import numpy as np\n",
    "import itertools\n",
    "import matplotlib.pyplot as plt\n",
    "from tqdm import tqdm\n",
    "import math\n",
    "\n",
    "import numpy as np\n",
    "import pandas as pd\n",
    "\n",
    "# Matrix dictionary/list\n",
    "\n",
    "n=9\n",
    "A=np.random.randn(n,n)\n",
    "\n",
    "\n",
    "def generate_pivot_graph(A,plot=True,verbose=False):\n",
    "    growth_factor_list=[]\n",
    "    if verbose:\n",
    "        for m in tqdm(itertools.permutations(A),total=math.factorial(n)):\n",
    "            growth_factor_list.append(get_gf(np.array(m)))\n",
    "    else:\n",
    "        for m in itertools.permutations(A):\n",
    "            growth_factor_list.append(get_gf(np.array(m)))\n",
    "    \n",
    "    P,L,U,gf1=GEPP(A,compute_P=True)\n",
    "    # PA=L1U1\n",
    "\n",
    "    gf2=get_gf(np.matmul(P,A))\n",
    "    growth_factor_list.append(gf2)\n",
    "    # PA=L2U2\n",
    "\n",
    "    # # divide by minimum\n",
    "    # min_gf=min(growth_factor_list)\n",
    "    # growth_factor_list=[i/min_gf for i in growth_factor_list]\n",
    "\n",
    "    if verbose:\n",
    "\n",
    "        print(\"Minimum Growth Factor: \",min(growth_factor_list))\n",
    "        print(\"GEPP Growth Factor: \",growth_factor_list[-1])\n",
    "        print(\"Maximum Growth Factor: \",max(growth_factor_list))\n",
    "\n",
    "    if plot:\n",
    "        plt.hist(growth_factor_list,bins=250)\n",
    "\n",
    "        # Label last element\n",
    "        plt.text(growth_factor_list[-1], 0, str(round(growth_factor_list[-1],3)), fontsize=12)\n",
    "\n",
    "    return growth_factor_list\n",
    "\n",
    "def GE(A):\n",
    "    n = len(A)\n",
    "    A = np.array(A)\n",
    "\n",
    "    growth_factors=[]\n",
    "\n",
    "    L = np.zeros((n, n))\n",
    "    U = np.zeros((n, n))\n",
    "\n",
    "    for i in range(n):\n",
    "        L[i, i] = 1\n",
    "        for j in range(i + 1):\n",
    "            U[j, i] = A[j, i] - np.dot(L[j, :j], U[:j, i])\n",
    "        for j in range(i + 1, n):\n",
    "            L[j, i] = (A[j, i] - np.dot(L[j, :i], U[:i, i])) / U[i, i]\n",
    "\n",
    "        iteration_growth_factor = np.max(np.abs(U)) / np.max(np.abs(A))\n",
    "\n",
    "        growth_factors.append(iteration_growth_factor)\n",
    "\n",
    "    return L, U, growth_factors\n",
    "\n",
    "def GEPP(A,compute_P=False):\n",
    "    n = len(A)\n",
    "    A = np.array(A)\n",
    "\n",
    "    growth_factors=[]\n",
    "\n",
    "    L = np.zeros((n, n))\n",
    "    U = np.zeros((n, n))\n",
    "    P=np.eye(n)\n",
    "\n",
    "    # Also compute P\n",
    "    for i in range(n):\n",
    "        max_index = np.argmax(np.abs(A[i:, i])) + i\n",
    "\n",
    "        A[[i, max_index]] = A[[max_index, i]]\n",
    "\n",
    "        P[[i, max_index]] = P[[max_index, i]]\n",
    "\n",
    "        L[i, i] = 1\n",
    "        for j in range(i + 1):\n",
    "            U[j, i] = A[j, i] - np.dot(L[j, :j], U[:j, i])\n",
    "        for j in range(i + 1, n):\n",
    "            L[j, i] = (A[j, i] - np.dot(L[j, :i], U[:i, i])) / U[i, i]\n",
    "\n",
    "\n",
    "        iteration_growth_factor = np.max(np.abs(U)) / np.max(np.abs(A))\n",
    "\n",
    "        growth_factors.append(iteration_growth_factor)\n",
    "\n",
    "\n",
    "    if compute_P:\n",
    "        return P,L, U, growth_factors\n",
    "    else:\n",
    "        return L, U, growth_factors\n",
    "\n",
    "def get_gf(A,method=\"GE\"):\n",
    "    if method==\"GE\":\n",
    "        L,U,gf=GE(A)\n",
    "    elif method==\"GEPP\":\n",
    "        L,U,gf=GEPP(A)\n",
    "    else:\n",
    "        raise ValueError(\"Method not recognized\")\n",
    "    \n",
    "    return np.max(gf)\n",
    "\n",
    "def plot_gf(A,method=\"GE\"):\n",
    "    if method==\"GE\":\n",
    "        L,U,gf=GE(A)\n",
    "    elif method==\"GEPP\":\n",
    "        L,U,gf=GEPP(A)\n",
    "    else:\n",
    "        raise ValueError(\"Method not recognized\")\n",
    "    plt.figure(figsize=(10,10))\n",
    "    plt.plot(gf)\n",
    "    plt.show()\n",
    "\n",
    "def compare_gf(A):\n",
    "    L,U,gf=GE(A)\n",
    "    L,U,gfpp=GEPP(A)\n",
    "    plt.figure(figsize=(10,10))\n",
    "    plt.title(\"Growth Factor Comparison\")\n",
    "    plt.ylabel(\"Growth Factor\")\n",
    "    plt.xlabel(\"Iteration\")\n",
    "    plt.plot(gf,label=\"GE\")\n",
    "    plt.plot(gfpp,label=\"GEPP\")\n",
    "    plt.legend()\n",
    "    plt.show()"
   ]
  },
  {
   "cell_type": "code",
   "execution_count": 27,
   "metadata": {},
   "outputs": [
    {
     "data": {
      "image/png": "[encoded data removed]",
      "text/plain": [
       "<Figure size 720x720 with 1 Axes>"
      ]
     },
     "metadata": {
      "needs_background": "light"
     },
     "output_type": "display_data"
    },
    {
     "name": "stdout",
     "output_type": "stream",
     "text": [
      "GE Growth Factor:  512.0\n",
      "GEPP Growth Factor:  512.0\n"
     ]
    }
   ],
   "source": [
    "\n",
    "def wilkinsonMatrix(n):\n",
    "    A = np.zeros((n, n))\n",
    "    for i in range(n):\n",
    "        A[i, i] = 1\n",
    "        if i < n - 1:\n",
    "            A[i + 1:, i] = -1\n",
    "        \n",
    "    # lasr colummn is all 1\n",
    "    A[:, -1] = 1\n",
    "        \n",
    "\n",
    "    return A\n",
    "\n",
    "def GEUnstableMatrix():\n",
    "    A=np.array([\n",
    "    [1e-10, 1],\n",
    "    [1, 1]])\n",
    "\n",
    "    return A\n",
    "\n",
    "n=10\n",
    "\n",
    "A=wilkinsonMatrix(n)\n",
    "\n",
    "compare_gf(A)\n",
    "print(\"GE Growth Factor: \",get_gf(A))\n",
    "print(\"GEPP Growth Factor: \",get_gf(A,method=\"GEPP\"))"
   ]
  },
  {
   "cell_type": "code",
   "execution_count": 15,
   "metadata": {},
   "outputs": [
    {
     "name": "stderr",
     "output_type": "stream",
     "text": [
      "100%|██████████| 100000/100000 [00:43<00:00, 2290.62it/s]\n",
      "100%|██████████| 100000/100000 [01:04<00:00, 1550.09it/s]\n",
      "100%|██████████| 100000/100000 [01:42<00:00, 978.80it/s]\n"
     ]
    },
    {
     "data": {
      "text/html": [
       "<div>\n",
       "<style scoped>\n",
       "    .dataframe tbody tr th:only-of-type {\n",
       "        vertical-align: middle;\n",
       "    }\n",
       "\n",
       "    .dataframe tbody tr th {\n",
       "        vertical-align: top;\n",
       "    }\n",
       "\n",
       "    .dataframe thead th {\n",
       "        text-align: right;\n",
       "    }\n",
       "</style>\n",
       "<table border=\"1\" class=\"dataframe\">\n",
       "  <thead>\n",
       "    <tr style=\"text-align: right;\">\n",
       "      <th></th>\n",
       "      <th>method</th>\n",
       "      <th>gf_end</th>\n",
       "      <th>gf_max</th>\n",
       "    </tr>\n",
       "  </thead>\n",
       "  <tbody>\n",
       "    <tr>\n",
       "      <th>0</th>\n",
       "      <td>GE</td>\n",
       "      <td>85.169090</td>\n",
       "      <td>85.169090</td>\n",
       "    </tr>\n",
       "    <tr>\n",
       "      <th>1</th>\n",
       "      <td>GEPP</td>\n",
       "      <td>53.552883</td>\n",
       "      <td>53.552883</td>\n",
       "    </tr>\n",
       "    <tr>\n",
       "      <th>2</th>\n",
       "      <td>GE_Pivoted</td>\n",
       "      <td>33.643115</td>\n",
       "      <td>33.643115</td>\n",
       "    </tr>\n",
       "  </tbody>\n",
       "</table>\n",
       "</div>"
      ],
      "text/plain": [
       "       method     gf_end     gf_max\n",
       "0          GE  85.169090  85.169090\n",
       "1        GEPP  53.552883  53.552883\n",
       "2  GE_Pivoted  33.643115  33.643115"
      ]
     },
     "execution_count": 15,
     "metadata": {},
     "output_type": "execute_result"
    }
   ],
   "source": [
    "# Function\n",
    "n=10\n",
    "iters=100000\n",
    "df=pd.DataFrame(columns=[\"method\",\"gf_end\",\"gf_max\"])\n",
    "\n",
    "methods=[\"GE\",\"GEPP\",\"GE_Pivoted\"]\n",
    "\n",
    "A_list=[np.random.randn(n,n) for i in range(iters)]\n",
    "\n",
    "for method in methods:\n",
    "    # average over 100 runs\n",
    "    gf_end=[]\n",
    "    gf_max=[]\n",
    "    for i in tqdm(range(iters)):\n",
    "        A=A_list[i]\n",
    "        \n",
    "        \n",
    "        if method==\"GE\":\n",
    "            L,U,gf=GE(A)\n",
    "        elif method==\"GEPP\":\n",
    "            L,U,gf=GEPP(A)\n",
    "        elif method==\"GE_Pivoted\":\n",
    "            P,L,U,gf=GEPP(A,compute_P=True)\n",
    "            L,U,gf=GE(P@A)\n",
    "        else:\n",
    "            raise ValueError(\"Method not recognized\")\n",
    "        \n",
    "        gf_end.append(gf[-1])\n",
    "        gf_max.append(np.max(gf))\n",
    "    df=df.append({\"method\":method,\"gf_end\":np.mean(gf_end),\"gf_max\":np.mean(gf_max)},ignore_index=True)\n",
    "\n",
    "df"
   ]
  },
  {
   "cell_type": "code",
   "execution_count": 21,
   "metadata": {},
   "outputs": [
    {
     "name": "stderr",
     "output_type": "stream",
     "text": [
      "100%|██████████| 10/10 [00:00<00:00, 447.85it/s]"
     ]
    },
    {
     "name": "stdout",
     "output_type": "stream",
     "text": [
      "GEPP:  2.2551942465844563\n",
      "GE:  2.315913969834575\n",
      "GEPP:  2.315913969834575\n"
     ]
    },
    {
     "name": "stderr",
     "output_type": "stream",
     "text": [
      "\n"
     ]
    }
   ],
   "source": [
    "def iteratedGEPP(A):\n",
    "    n=len(A)\n",
    "    P1,L1,U1,gf1=GEPP(A,compute_P=True)\n",
    "\n",
    "    gf1=get_gf(A,method=\"GEPP\")\n",
    "    gf2=get_gf(P1@A,method=\"GE\")\n",
    "    gf3=get_gf(P1@A,method=\"GEPP\")\n",
    "\n",
    "    return (gf1,gf2,gf3)\n",
    "    \n",
    "\n",
    "n=5\n",
    "\n",
    "results=[]\n",
    "for i in tqdm(range(10)):\n",
    "    A=np.random.randn(n,n)\n",
    "    results.append(iteratedGEPP(A))\n",
    "\n",
    "results=np.array(results)\n",
    "\n",
    "# averages\n",
    "print(\"GEPP: \",np.mean(results[:,0]))\n",
    "print(\"GE: \",np.mean(results[:,1]))\n",
    "print(\"GEPP: \",np.mean(results[:,2]))"
   ]
  },
  {
   "cell_type": "code",
   "execution_count": 16,
   "metadata": {},
   "outputs": [
    {
     "name": "stderr",
     "output_type": "stream",
     "text": [
      "  0%|          | 0/10 [00:00<?, ?it/s]"
     ]
    },
    {
     "name": "stderr",
     "output_type": "stream",
     "text": [
      "100%|██████████| 10/10 [01:52<00:00, 11.22s/it]\n"
     ]
    },
    {
     "name": "stdout",
     "output_type": "stream",
     "text": [
      "GEPP average:  8.498884096468988\n"
     ]
    },
    {
     "data": {
      "image/png": "[encoded data removed]",
      "text/plain": [
       "<Figure size 720x720 with 1 Axes>"
      ]
     },
     "metadata": {
      "needs_background": "light"
     },
     "output_type": "display_data"
    }
   ],
   "source": [
    "n=8\n",
    "iters=10\n",
    "results=[]\n",
    "results_gepp=[]\n",
    "\n",
    "for i in tqdm(range(iters)):\n",
    "    A=np.random.randn(n,n)\n",
    "    result=generate_pivot_graph(A,plot=False)\n",
    "\n",
    "    results.append(result)\n",
    "    results_gepp.append(get_gf(A,method=\"GEPP\"))\n",
    "\n",
    "results=np.array(results)\n",
    "results_gepp=np.array(results_gepp)\n",
    "gepp_avg=np.mean(results_gepp)\n",
    "\n",
    "# Plot\n",
    "plt.figure(figsize=(10,10))\n",
    "plt.title(\"Growth Factor Distribution for permutations of an ensemble of random matrices\")\n",
    "plt.ylabel(\"Frequency\")\n",
    "plt.xlabel(\"Growth Factor\")\n",
    "plt.yscale(\"log\")\n",
    "plt.hist(results.flatten(),bins=250)\n",
    "# pplot gepp average\n",
    "plt.axvline(x=gepp_avg,color=\"red\",label=\"GEPP Average\")\n",
    "plt.legend()\n",
    "\n",
    "\n",
    "print(\"GEPP average: \",gepp_avg)\n",
    "# Is partial pivoting on an average as good as a random permutation? Ie. is P_pp=P_rand?"
   ]
  }
 ],
 "metadata": {
  "kernelspec": {
   "display_name": "base",
   "language": "python",
   "name": "python3"
  },
  "language_info": {
   "codemirror_mode": {
    "name": "ipython",
    "version": 3
   },
   "file_extension": ".py",
   "mimetype": "text/x-python",
   "name": "python",
   "nbconvert_exporter": "python",
   "pygments_lexer": "ipython3",
   "version": "3.7.6"
  }
 },
 "nbformat": 4,
 "nbformat_minor": 2
}
