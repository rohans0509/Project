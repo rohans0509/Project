{
 "cells": [
  {
   "cell_type": "code",
   "execution_count": 42,
   "metadata": {},
   "outputs": [],
   "source": [
    "from Algorithms import *\n",
    "from Utils import *\n",
    "import numpy as np"
   ]
  },
  {
   "cell_type": "code",
   "execution_count": 81,
   "metadata": {},
   "outputs": [
    {
     "name": "stdout",
     "output_type": "stream",
     "text": [
      "28.260983281831972\n",
      "31.35616644746282\n",
      "2.3770043179489746\n"
     ]
    }
   ],
   "source": [
    "n=10\n",
    "\n",
    "A=np.random.rand(n,n)\n",
    "\n",
    "print(get_gf(A,method=\"GE\"))\n",
    "print(get_gf(A,method=\"GEPP\"))\n",
    "print(get_gf(A,method=\"GEPivot\"))"
   ]
  }
 ],
 "metadata": {
  "kernelspec": {
   "display_name": "base",
   "language": "python",
   "name": "python3"
  },
  "language_info": {
   "codemirror_mode": {
    "name": "ipython",
    "version": 3
   },
   "file_extension": ".py",
   "mimetype": "text/x-python",
   "name": "python",
   "nbconvert_exporter": "python",
   "pygments_lexer": "ipython3",
   "version": "3.7.6"
  }
 },
 "nbformat": 4,
 "nbformat_minor": 2
}
