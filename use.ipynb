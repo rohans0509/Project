{
 "cells": [
  {
   "cell_type": "code",
   "execution_count": 1,
   "metadata": {},
   "outputs": [],
   "source": [
    "from Algorithms import *\n",
    "from Utils import *\n",
    "import numpy as np\n",
    "import numpy.linalg as la\n",
    "from IPython.display import display"
   ]
  },
  {
   "cell_type": "code",
   "execution_count": 2,
   "metadata": {},
   "outputs": [
    {
     "name": "stderr",
     "output_type": "stream",
     "text": [
      "  0%|          | 0/3 [00:00<?, ?it/s]"
     ]
    },
    {
     "name": "stderr",
     "output_type": "stream",
     "text": [
      "100%|██████████| 10000/10000 [00:01<00:00, 6682.10it/s]\n",
      "100%|██████████| 10000/10000 [00:02<00:00, 4146.61it/s]\n",
      "100%|██████████| 10000/10000 [00:04<00:00, 2492.44it/s]\n",
      "100%|██████████| 3/3 [00:07<00:00,  2.65s/it]\n"
     ]
    },
    {
     "data": {
      "text/html": [
       "<div>\n",
       "<style scoped>\n",
       "    .dataframe tbody tr th:only-of-type {\n",
       "        vertical-align: middle;\n",
       "    }\n",
       "\n",
       "    .dataframe tbody tr th {\n",
       "        vertical-align: top;\n",
       "    }\n",
       "\n",
       "    .dataframe thead th {\n",
       "        text-align: right;\n",
       "    }\n",
       "</style>\n",
       "<table border=\"1\" class=\"dataframe\">\n",
       "  <thead>\n",
       "    <tr style=\"text-align: right;\">\n",
       "      <th></th>\n",
       "      <th>GE_5</th>\n",
       "      <th>GEPP_5</th>\n",
       "      <th>GEM_5</th>\n",
       "    </tr>\n",
       "  </thead>\n",
       "  <tbody>\n",
       "    <tr>\n",
       "      <th>count</th>\n",
       "      <td>10000.000000</td>\n",
       "      <td>10000.000000</td>\n",
       "      <td>10000.000000</td>\n",
       "    </tr>\n",
       "    <tr>\n",
       "      <th>mean</th>\n",
       "      <td>25.692475</td>\n",
       "      <td>4.978780</td>\n",
       "      <td>4.007868</td>\n",
       "    </tr>\n",
       "    <tr>\n",
       "      <th>std</th>\n",
       "      <td>439.403388</td>\n",
       "      <td>65.175426</td>\n",
       "      <td>36.297979</td>\n",
       "    </tr>\n",
       "    <tr>\n",
       "      <th>min</th>\n",
       "      <td>0.503872</td>\n",
       "      <td>0.596309</td>\n",
       "      <td>0.596309</td>\n",
       "    </tr>\n",
       "    <tr>\n",
       "      <th>25%</th>\n",
       "      <td>1.414121</td>\n",
       "      <td>0.984078</td>\n",
       "      <td>0.984401</td>\n",
       "    </tr>\n",
       "    <tr>\n",
       "      <th>50%</th>\n",
       "      <td>2.739511</td>\n",
       "      <td>1.031623</td>\n",
       "      <td>1.034545</td>\n",
       "    </tr>\n",
       "    <tr>\n",
       "      <th>75%</th>\n",
       "      <td>6.619280</td>\n",
       "      <td>1.888068</td>\n",
       "      <td>1.842922</td>\n",
       "    </tr>\n",
       "    <tr>\n",
       "      <th>max</th>\n",
       "      <td>33259.891368</td>\n",
       "      <td>4746.092764</td>\n",
       "      <td>2367.713049</td>\n",
       "    </tr>\n",
       "  </tbody>\n",
       "</table>\n",
       "</div>"
      ],
      "text/plain": [
       "               GE_5        GEPP_5         GEM_5\n",
       "count  10000.000000  10000.000000  10000.000000\n",
       "mean      25.692475      4.978780      4.007868\n",
       "std      439.403388     65.175426     36.297979\n",
       "min        0.503872      0.596309      0.596309\n",
       "25%        1.414121      0.984078      0.984401\n",
       "50%        2.739511      1.031623      1.034545\n",
       "75%        6.619280      1.888068      1.842922\n",
       "max    33259.891368   4746.092764   2367.713049"
      ]
     },
     "metadata": {},
     "output_type": "display_data"
    },
    {
     "data": {
      "image/png": "[encoded data removed]",
      "text/plain": [
       "<Figure size 432x288 with 1 Axes>"
      ]
     },
     "metadata": {
      "needs_background": "light"
     },
     "output_type": "display_data"
    }
   ],
   "source": [
    "n_list=[5]                                                         # List of sizes of matrices to generate\n",
    "samples=10000                                                      # Number of matrices to generate\n",
    "methods=[\"GE\",\"GEPP\",\"GEM\"]                                        # Add more methods here, options : \"GE\",\"GEPP\",\"GEM\"\n",
    "\n",
    "plot_type=\"box\"                                                    # \"hist\" or \"boxplot\"\n",
    "log=True                                                           # True or False\n",
    "save_path=\"Plots/GE_hist.png\"                                      # Path to save plot\n",
    "\n",
    "results=run_random_ensemble(methods=methods,n_list=n_list,samples=samples)\n",
    "stats=compute_stats(results)\n",
    "plot=plot_results(results,plot_type=plot_type,log=log,save_path=save_path)\n",
    "\n",
    "display(stats)"
   ]
  },
  {
   "cell_type": "code",
   "execution_count": 2,
   "metadata": {},
   "outputs": [
    {
     "name": "stderr",
     "output_type": "stream",
     "text": [
      "  0%|          | 0/10000 [00:00<?, ?it/s]"
     ]
    },
    {
     "name": "stderr",
     "output_type": "stream",
     "text": [
      "100%|██████████| 10000/10000 [02:54<00:00, 57.17it/s]\n"
     ]
    },
    {
     "data": {
      "text/html": [
       "<div>\n",
       "<style scoped>\n",
       "    .dataframe tbody tr th:only-of-type {\n",
       "        vertical-align: middle;\n",
       "    }\n",
       "\n",
       "    .dataframe tbody tr th {\n",
       "        vertical-align: top;\n",
       "    }\n",
       "\n",
       "    .dataframe thead th {\n",
       "        text-align: right;\n",
       "    }\n",
       "</style>\n",
       "<table border=\"1\" class=\"dataframe\">\n",
       "  <thead>\n",
       "    <tr style=\"text-align: right;\">\n",
       "      <th></th>\n",
       "      <th>Optimal</th>\n",
       "      <th>GE</th>\n",
       "      <th>GEPP</th>\n",
       "      <th>GEM</th>\n",
       "    </tr>\n",
       "  </thead>\n",
       "  <tbody>\n",
       "    <tr>\n",
       "      <th>count</th>\n",
       "      <td>10000.000000</td>\n",
       "      <td>10000.000000</td>\n",
       "      <td>10000.000000</td>\n",
       "      <td>10000.000000</td>\n",
       "    </tr>\n",
       "    <tr>\n",
       "      <th>mean</th>\n",
       "      <td>0.980137</td>\n",
       "      <td>27.478793</td>\n",
       "      <td>4.383369</td>\n",
       "      <td>7.689775</td>\n",
       "    </tr>\n",
       "    <tr>\n",
       "      <th>std</th>\n",
       "      <td>0.242806</td>\n",
       "      <td>428.677287</td>\n",
       "      <td>45.714596</td>\n",
       "      <td>215.699435</td>\n",
       "    </tr>\n",
       "    <tr>\n",
       "      <th>min</th>\n",
       "      <td>0.293231</td>\n",
       "      <td>0.383169</td>\n",
       "      <td>0.545694</td>\n",
       "      <td>0.547485</td>\n",
       "    </tr>\n",
       "    <tr>\n",
       "      <th>25%</th>\n",
       "      <td>0.829660</td>\n",
       "      <td>1.874541</td>\n",
       "      <td>1.011374</td>\n",
       "      <td>1.008277</td>\n",
       "    </tr>\n",
       "    <tr>\n",
       "      <th>50%</th>\n",
       "      <td>0.971783</td>\n",
       "      <td>3.475372</td>\n",
       "      <td>1.253151</td>\n",
       "      <td>1.254332</td>\n",
       "    </tr>\n",
       "    <tr>\n",
       "      <th>75%</th>\n",
       "      <td>1.084565</td>\n",
       "      <td>8.018674</td>\n",
       "      <td>1.893013</td>\n",
       "      <td>1.890560</td>\n",
       "    </tr>\n",
       "    <tr>\n",
       "      <th>max</th>\n",
       "      <td>3.030520</td>\n",
       "      <td>25030.487945</td>\n",
       "      <td>2803.584205</td>\n",
       "      <td>19183.871617</td>\n",
       "    </tr>\n",
       "  </tbody>\n",
       "</table>\n",
       "</div>"
      ],
      "text/plain": [
       "            Optimal            GE          GEPP           GEM\n",
       "count  10000.000000  10000.000000  10000.000000  10000.000000\n",
       "mean       0.980137     27.478793      4.383369      7.689775\n",
       "std        0.242806    428.677287     45.714596    215.699435\n",
       "min        0.293231      0.383169      0.545694      0.547485\n",
       "25%        0.829660      1.874541      1.011374      1.008277\n",
       "50%        0.971783      3.475372      1.253151      1.254332\n",
       "75%        1.084565      8.018674      1.893013      1.890560\n",
       "max        3.030520  25030.487945   2803.584205  19183.871617"
      ]
     },
     "metadata": {},
     "output_type": "display_data"
    },
    {
     "data": {
      "image/png": "[encoded data removed]",
      "text/plain": [
       "<Figure size 432x288 with 1 Axes>"
      ]
     },
     "metadata": {
      "needs_background": "light"
     },
     "output_type": "display_data"
    }
   ],
   "source": [
    "n_list=[5]                                                         # List of sizes of matrices to generate\n",
    "samples=10000                                                      # Number of matrices to generate\n",
    "methods=[\"GE\",\"GEPP\",\"GEM\"]                                        # Add more methods here, options : \"GE\",\"GEPP\",\"GEM\"\n",
    "\n",
    "plot_type=\"hist\"                                                    # \"hist\" or \"boxplot\"\n",
    "log=True                                                           # True or False\n",
    "save_path=\"Plots/Pivot_hist.png\"                                        # Path to save plot\n",
    "\n",
    "results_pivot=run_pivot_ensemble(methods=methods,n_list=n_list,samples=samples)\n",
    "stats_pivot=compute_stats(results_pivot)\n",
    "plot_pivot=plot_results(results_pivot,plot_type=plot_type,log=log,save_path=save_path)\n",
    "\n",
    "display(stats_pivot)"
   ]
  },
  {
   "cell_type": "code",
   "execution_count": 3,
   "metadata": {},
   "outputs": [
    {
     "data": {
      "image/png": "[encoded data removed]",
      "text/plain": [
       "<Figure size 432x288 with 1 Axes>"
      ]
     },
     "metadata": {
      "needs_background": "light"
     },
     "output_type": "display_data"
    }
   ],
   "source": [
    "plot_pivot=plot_results(results_pivot,plot_type=\"box\",log=log,save_path=\"Plots/Pivot_box.png\")"
   ]
  }
 ],
 "metadata": {
  "kernelspec": {
   "display_name": "base",
   "language": "python",
   "name": "python3"
  },
  "language_info": {
   "codemirror_mode": {
    "name": "ipython",
    "version": 3
   },
   "file_extension": ".py",
   "mimetype": "text/x-python",
   "name": "python",
   "nbconvert_exporter": "python",
   "pygments_lexer": "ipython3",
   "version": "3.7.6"
  }
 },
 "nbformat": 4,
 "nbformat_minor": 2
}
